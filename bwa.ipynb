{
 "cells": [
  {
   "cell_type": "markdown",
   "metadata": {},
   "source": [
    "# Burrows Wheeler Transform Algorithm (BWA)"
   ]
  },
  {
   "cell_type": "markdown",
   "metadata": {},
   "source": [
    "The Burrows Wheeler Transform (BWT) was developed in 1994 by Michael Burrows and David Wheeler. In simple terms, BWT is a string transformation that acts as a preprocessing step for lossless compression. BWT has implementations that exhibit both a linear O(n) performance and space complexity. Originally designed to prepare data for compression with techniques like bzip2, BWT has found prominence in bioinformatics allowing the fast mapping of short reads paving the way for high throughput genetic sequencing.\n",
    "> https://towardsdatascience.com/burrows-wheeler-in-python-c07cbf71b3f0"
   ]
  },
  {
   "cell_type": "markdown",
   "metadata": {},
   "source": [
    "## Burrows Wheeler Transform (BWT)"
   ]
  },
  {
   "cell_type": "markdown",
   "metadata": {},
   "source": [
    "The Burrows–Wheeler transform (BWT, also called block-sorting compression) rearranges a character string into runs of similar characters. This is useful for compression, since it tends to be easy to compress a string that has runs of repeated characters by techniques such as move-to-front transform and run-length encoding.\n",
    "\n",
    "When a character string is transformed by the BWT, the transformation permutes the order of the characters. If the original string had several substrings that occurred often, then the transformed string will have several places where a single character is repeated multiple times in a row.\n",
    "\n",
    "> https://en.wikipedia.org/wiki/Burrows%E2%80%93Wheeler_transform"
   ]
  },
  {
   "cell_type": "markdown",
   "metadata": {},
   "source": [
    "1. List the all rotations with the sequence input. \\\n",
    "(where, '$' represents the end of sequence.)"
   ]
  },
  {
   "cell_type": "code",
   "execution_count": 2,
   "metadata": {},
   "outputs": [
    {
     "name": "stdout",
     "output_type": "stream",
     "text": [
      "['OMICSSBS$',\n",
      " 'MICSSBS$O',\n",
      " 'ICSSBS$OM',\n",
      " 'CSSBS$OMI',\n",
      " 'SSBS$OMIC',\n",
      " 'SBS$OMICS',\n",
      " 'BS$OMICSS',\n",
      " 'S$OMICSSB',\n",
      " '$OMICSSBS']\n"
     ]
    }
   ],
   "source": [
    "from pprint import pprint\n",
    "\n",
    "example = \"OMICSSBS$\"\n",
    "rotations = []\n",
    "for i in range(len(example)):\n",
    "    rotations.append(example[i:] + example[:i])\n",
    "pprint(rotations)"
   ]
  },
  {
   "cell_type": "markdown",
   "metadata": {},
   "source": [
    "2. Then we sort the rotations alphabetically or any property you want."
   ]
  },
  {
   "cell_type": "code",
   "execution_count": 3,
   "metadata": {},
   "outputs": [
    {
     "name": "stdout",
     "output_type": "stream",
     "text": [
      "['$OMICSSBS',\n",
      " 'BS$OMICSS',\n",
      " 'CSSBS$OMI',\n",
      " 'ICSSBS$OM',\n",
      " 'MICSSBS$O',\n",
      " 'OMICSSBS$',\n",
      " 'S$OMICSSB',\n",
      " 'SBS$OMICS',\n",
      " 'SSBS$OMIC']\n"
     ]
    }
   ],
   "source": [
    "sorted_rotations = sorted(rotations)\n",
    "pprint(sorted_rotations)"
   ]
  },
  {
   "cell_type": "markdown",
   "metadata": {},
   "source": [
    "3. We get the last column of the sorted rotations."
   ]
  },
  {
   "cell_type": "code",
   "execution_count": 4,
   "metadata": {},
   "outputs": [
    {
     "name": "stdout",
     "output_type": "stream",
     "text": [
      "'S'\n",
      "'S'\n",
      "'I'\n",
      "'M'\n",
      "'O'\n",
      "'$'\n",
      "'B'\n",
      "'S'\n",
      "'C'\n"
     ]
    }
   ],
   "source": [
    "for seq in sorted_rotations:\n",
    "    pprint(seq[-1])"
   ]
  },
  {
   "cell_type": "markdown",
   "metadata": {},
   "source": [
    "## FM-index"
   ]
  },
  {
   "cell_type": "markdown",
   "metadata": {},
   "source": [
    "In computer science, an FM-index is a compressed full-text substring index based on the Burrows–Wheeler transform, with some similarities to the suffix array. \n",
    "\n",
    "An FM-index is created by first taking the Burrows–Wheeler transform (BWT) of the input text. For example, the BWT of the string T = \"abracadabra$\" is \"ard$rcaaaabb\", and here it is represented by the matrix M where each row is a rotation of the text, and the rows have been sorted lexicographically. The transform corresponds to the last column labeled L, And the first colum labeled F.\n",
    "\n",
    "> https://en.wikipedia.org/wiki/FM-index"
   ]
  },
  {
   "cell_type": "code",
   "execution_count": 5,
   "metadata": {},
   "outputs": [
    {
     "name": "stdout",
     "output_type": "stream",
     "text": [
      "Initial index: 8 of the sequence: $OMICSSBS\n",
      "Initial index: 6 of the sequence: BS$OMICSS\n",
      "Initial index: 3 of the sequence: CSSBS$OMI\n",
      "Initial index: 2 of the sequence: ICSSBS$OM\n",
      "Initial index: 1 of the sequence: MICSSBS$O\n",
      "Initial index: 0 of the sequence: OMICSSBS$\n",
      "Initial index: 7 of the sequence: S$OMICSSB\n",
      "Initial index: 5 of the sequence: SBS$OMICS\n",
      "Initial index: 4 of the sequence: SSBS$OMIC\n"
     ]
    }
   ],
   "source": [
    "import numpy as np\n",
    "\n",
    "initial_indices = np.argsort(rotations)\n",
    "for ind, seq in zip(initial_indices, sorted_rotations):\n",
    "    print(f\"Initial index: {ind} of the sequence: {seq}\")"
   ]
  },
  {
   "cell_type": "markdown",
   "metadata": {},
   "source": [
    "We can keep the last column in a sequence."
   ]
  },
  {
   "cell_type": "code",
   "execution_count": 6,
   "metadata": {},
   "outputs": [
    {
     "name": "stdout",
     "output_type": "stream",
     "text": [
      "SSIMO$BSC\n"
     ]
    }
   ],
   "source": [
    "last_column = ''\n",
    "for seq in sorted_rotations:\n",
    "    last_column += seq[-1]\n",
    "print(last_column) "
   ]
  },
  {
   "cell_type": "markdown",
   "metadata": {},
   "source": [
    "Then, we count the number of occurrences of each character in the prefix sequence."
   ]
  },
  {
   "cell_type": "code",
   "execution_count": 7,
   "metadata": {},
   "outputs": [
    {
     "name": "stdout",
     "output_type": "stream",
     "text": [
      "{'$': 1, 'B': 1, 'C': 1, 'I': 1, 'M': 1, 'O': 1, 'S': 3}\n",
      "{'$': [0, 0, 0, 0, 0, 1, 1, 1, 1],\n",
      " 'B': [0, 0, 0, 0, 0, 0, 1, 1, 1],\n",
      " 'C': [0, 0, 0, 0, 0, 0, 0, 0, 1],\n",
      " 'I': [0, 0, 1, 1, 1, 1, 1, 1, 1],\n",
      " 'M': [0, 0, 0, 1, 1, 1, 1, 1, 1],\n",
      " 'O': [0, 0, 0, 0, 1, 1, 1, 1, 1],\n",
      " 'S': [1, 2, 2, 2, 2, 2, 2, 3, 3]}\n"
     ]
    }
   ],
   "source": [
    "totals = {k: 0 for k in \"\".join(set(last_column))}\n",
    "tallymatrix = {k: [] for k in \"\".join(set(last_column))}\n",
    "\n",
    "for i in last_column:\n",
    "    totals[i] += 1\n",
    "    for j in tallymatrix.keys():\n",
    "        if i != j and tallymatrix[j]:\n",
    "            tallymatrix[j].append(tallymatrix[j][-1])\n",
    "        elif i == j:\n",
    "            tallymatrix[j].append(totals[i])\n",
    "        else:\n",
    "            tallymatrix[j].append(0)\n",
    "\n",
    "pprint(totals)\n",
    "pprint(tallymatrix)"
   ]
  },
  {
   "cell_type": "markdown",
   "metadata": {},
   "source": [
    "Using this we can rebuild a index of where we start and stop seeing the characters in the first column."
   ]
  },
  {
   "cell_type": "code",
   "execution_count": 8,
   "metadata": {},
   "outputs": [
    {
     "name": "stdout",
     "output_type": "stream",
     "text": [
      "{'$': (0, 1),\n",
      " 'B': (1, 2),\n",
      " 'C': (2, 3),\n",
      " 'I': (3, 4),\n",
      " 'M': (4, 5),\n",
      " 'O': (5, 6),\n",
      " 'S': (6, 9)}\n"
     ]
    }
   ],
   "source": [
    "first = {}\n",
    "totc = 0\n",
    "for i, count in sorted(totals.items()):\n",
    "    first[i] = (totc, totc+count)\n",
    "    totc += count\n",
    "pprint(first)"
   ]
  },
  {
   "cell_type": "markdown",
   "metadata": {},
   "source": [
    "### Last to First Mapping"
   ]
  },
  {
   "cell_type": "markdown",
   "metadata": {},
   "source": [
    "Then, we can map a given character with an index i back to first column."
   ]
  },
  {
   "cell_type": "markdown",
   "metadata": {},
   "source": [
    "To get a better grasp of whats happening lets track the index jumps too."
   ]
  },
  {
   "cell_type": "code",
   "execution_count": 30,
   "metadata": {},
   "outputs": [
    {
     "name": "stdout",
     "output_type": "stream",
     "text": [
      "loop\tloopindex\tindex\tinitial_ind\tfirst_column\tlast_column\tc\tt\n",
      "\n",
      "END         1             6          6               B               S          S        S$\n",
      "END         2             1          3               C               I          B        BS$\n",
      "END         3             7          2               I               M          S        SBS$\n",
      "END         4             8          1               M               O          S        SSBS$\n",
      "END         5             2          0               O               $          C        CSSBS$\n",
      "END         6             3          7               S               B          I        ICSSBS$\n",
      "END         7             4          5               S               S          M        MICSSBS$\n",
      "END         8             5          4               S               C          O        OMICSSBS$\n",
      "\n",
      "first:\n",
      "{'$': (0, 1),\n",
      " 'B': (1, 2),\n",
      " 'C': (2, 3),\n",
      " 'I': (3, 4),\n",
      " 'M': (4, 5),\n",
      " 'O': (5, 6),\n",
      " 'S': (6, 9)}\n",
      "\n",
      "last column:\n",
      "'SSIMO$BSC'\n",
      "\n",
      "tallymatrix:\n",
      "{'$': [0, 0, 0, 0, 0, 1, 1, 1, 1],\n",
      " 'B': [0, 0, 0, 0, 0, 0, 1, 1, 1],\n",
      " 'C': [0, 0, 0, 0, 0, 0, 0, 0, 1],\n",
      " 'I': [0, 0, 1, 1, 1, 1, 1, 1, 1],\n",
      " 'M': [0, 0, 0, 1, 1, 1, 1, 1, 1],\n",
      " 'O': [0, 0, 0, 0, 1, 1, 1, 1, 1],\n",
      " 'S': [1, 2, 2, 2, 2, 2, 2, 3, 3]}\n",
      "\n",
      "initial indices:\n",
      "[8, 6, 3, 2, 1, 0, 7, 5, 4]\n",
      "\n",
      "sorted rotations:\n",
      "['$OMICSSBS',\n",
      " 'BS$OMICSS',\n",
      " 'CSSBS$OMI',\n",
      " 'ICSSBS$OM',\n",
      " 'MICSSBS$O',\n",
      " 'OMICSSBS$',\n",
      " 'S$OMICSSB',\n",
      " 'SBS$OMICS',\n",
      " 'SSBS$OMIC']\n"
     ]
    }
   ],
   "source": [
    "i = 0\n",
    "t = \"$\"\n",
    "j = 0\n",
    "print(f\"loop\\tloopindex\\tindex\\tinitial_ind\\tfirst_column\\tlast_column\\tc\\tt\\n\")\n",
    "while last_column[i] != \"$\":\n",
    "    c = last_column[i]\n",
    "    t = c + t\n",
    "    i = first[c][0] + tallymatrix[c][i] - 1\n",
    "    j += 1\n",
    "    print(f\"END{j:10} {i:13} {initial_indices[j]:10}{' '*15}{[seq[0] for seq in sorted_rotations][j]:15} {[seq[-1] for seq in sorted_rotations][j]:10} {c:8} {t}\")\n",
    "\n",
    "print(\"\\n\"+'first:')\n",
    "pprint(first)\n",
    "print(\"\\n\"+'last column:')\n",
    "pprint(last_column)\n",
    "print(\"\\n\"+'tallymatrix:')\n",
    "pprint(tallymatrix)\n",
    "print(\"\\n\"+'initial indices:')\n",
    "pprint(list(initial_indices))\n",
    "print(\"\\n\"+'sorted rotations:')\n",
    "pprint(sorted_rotations)"
   ]
  },
  {
   "cell_type": "markdown",
   "metadata": {},
   "source": [
    "You can see the output matrix above clearly. We get the last character s, then we search which `sorted_rotations` ends with s through `first[c][0] + tallymatrix[c][i] - 1`. Implementing `first[c][0]` is to get the index of rotation which starts with s in `sorted_rotations` and implementing `tallymatrix[c][i]` is to get the s which I really want, because the `tallmatrix` is calculated based on the `last_column` which means that the s occur earlier in the start of `sorted_rotations` if the s occur earlier in `last_column`. So we can get our initial sequence through this way."
   ]
  },
  {
   "cell_type": "code",
   "execution_count": 31,
   "metadata": {},
   "outputs": [
    {
     "name": "stdout",
     "output_type": "stream",
     "text": [
      "OMICSSBS$\n"
     ]
    }
   ],
   "source": [
    "i = 0\n",
    "t = \"$\"\n",
    "while last_column[i] != \"$\":\n",
    "    c = last_column[i]\n",
    "    t = c + t\n",
    "    i = first[c][0] + tallymatrix[c][i] - 1\n",
    "print(t)"
   ]
  },
  {
   "cell_type": "markdown",
   "metadata": {},
   "source": [
    "## Building a class"
   ]
  },
  {
   "cell_type": "markdown",
   "metadata": {},
   "source": [
    "So now, we can build a class `BWA` which contains 4 core data structures used in the algorithm:\n",
    "\n",
    "1. Suffix Array\n",
    "2. BWT\n",
    "3. C: C[c] is a table that, for each character c in the alphabet, contains the number of occurrences of lexically smaller characters in the text.\n",
    "4. Occ: The function Occ(c, k) is the number of occurrences of character c in the prefix L[1..k]."
   ]
  },
  {
   "cell_type": "code",
   "execution_count": 32,
   "metadata": {},
   "outputs": [],
   "source": [
    "class BWA:\n",
    "    \"\"\" A Burrows-Wheeler Alignment class. \"\"\"\n",
    "\n",
    "    def __init__(self, reference: str):\n",
    "        \"\"\" Initiation \"\"\"\n",
    "        self.ref = reference + \"$\"\n",
    "        self.alphabet = sorted(['a', 'g', 't', 'c'])\n",
    "\n",
    "    def suffix_array(self):\n",
    "        \"\"\" Get the suffix array of the reference. \"\"\"\n",
    "        # List the all rotations with the reference input.\n",
    "        rotations = []\n",
    "        for i in range(len(self.ref)):\n",
    "            rotations.append(self.ref[i:] + self.ref[:i])\n",
    "        # Sort the rotations alphabetically\n",
    "        sorted_rotations = sorted(rotations)\n",
    "        # Gain the initial index of the sorted rotations\n",
    "        initial_indices = np.argsort(rotations)\n",
    "        return list(initial_indices), sorted_rotations\n",
    "\n",
    "    def bwt(self):\n",
    "        \"\"\" Get the Burrows–Wheeler transform array. \"\"\"\n",
    "        # Keep the last column in a sequence\n",
    "        last = ''\n",
    "        _, sorted_rotations = self.suffix_array()\n",
    "        for seq in sorted_rotations:\n",
    "            last += seq[-1]\n",
    "        return last\n",
    "\n",
    "    def Occ(self):\n",
    "        \"\"\" Get the Occ matrix.\n",
    "            Occ(c, k) is the number of occurrences of character c in the prefix L[1..k].\n",
    "        \"\"\"\n",
    "        # Gain the bwt last column\n",
    "        last_column = self.bwt()\n",
    "        # Initiation\n",
    "        totals = {k: 0 for k in \"\".join(set(last_column))}\n",
    "        tally_matrix = {k: [] for k in \"\".join(set(last_column))}\n",
    "        # Get the Occ matrix\n",
    "        for i in last_column:\n",
    "            totals[i] += 1\n",
    "            for j in tally_matrix.keys():\n",
    "                if i != j and tally_matrix[j]:\n",
    "                    tally_matrix[j].append(tally_matrix[j][-1])\n",
    "                elif i == j:\n",
    "                    tally_matrix[j].append(totals[i])\n",
    "                else:\n",
    "                    tally_matrix[j].append(0)\n",
    "        return tally_matrix, totals\n",
    "\n",
    "    def C(self):\n",
    "        \"\"\" Get the C table.\n",
    "            C[c] is a table that, for each character c in the alphabet,\n",
    "            contains the number of occurrences of lexically smaller characters in the text.\n",
    "        \"\"\"\n",
    "        first = {}\n",
    "        totc = 0\n",
    "        for i, count in sorted(self.Occ()[1].items()):\n",
    "            first[i] = totc\n",
    "            totc += count\n",
    "        return first"
   ]
  },
  {
   "cell_type": "markdown",
   "metadata": {},
   "source": [
    "We can implementing our class `BWA` with a simple example:"
   ]
  },
  {
   "cell_type": "code",
   "execution_count": 33,
   "metadata": {},
   "outputs": [
    {
     "name": "stdout",
     "output_type": "stream",
     "text": [
      "Suffix Array:\n",
      "[20, 6, 16, 7, 0, 10, 18, 14, 3, 11, 19, 15, 9, 2, 4, 12, 5, 17, 13, 8, 1]\n",
      "\n",
      "BWT:\n",
      "'gtga$gttgcccttccgagaa'\n",
      "\n",
      "Occ:\n",
      "({'$': [0, 0, 0, 0, 1, 1, 1, 1, 1, 1, 1, 1, 1, 1, 1, 1, 1, 1, 1, 1, 1],\n",
      "  'a': [0, 0, 0, 1, 1, 1, 1, 1, 1, 1, 1, 1, 1, 1, 1, 1, 1, 2, 2, 3, 4],\n",
      "  'c': [0, 0, 0, 0, 0, 0, 0, 0, 0, 1, 2, 3, 3, 3, 4, 5, 5, 5, 5, 5, 5],\n",
      "  'g': [1, 1, 2, 2, 2, 3, 3, 3, 4, 4, 4, 4, 4, 4, 4, 4, 5, 5, 6, 6, 6],\n",
      "  't': [0, 1, 1, 1, 1, 1, 2, 3, 3, 3, 3, 3, 4, 5, 5, 5, 5, 5, 5, 5, 5]},\n",
      " {'$': 1, 'a': 4, 'c': 5, 'g': 6, 't': 5})\n",
      "\n",
      "C:\n",
      "{'$': 0, 'a': 1, 'c': 5, 'g': 10, 't': 16}\n"
     ]
    }
   ],
   "source": [
    "ref = 'atgcgtaatgccgtcgatcg'\n",
    "bwa = BWA(ref)\n",
    "print('Suffix Array:')\n",
    "pprint(bwa.suffix_array()[0])\n",
    "print(\"\\n\"+'BWT:')\n",
    "pprint(bwa.bwt())\n",
    "print(\"\\n\"+'Occ:')\n",
    "pprint(bwa.Occ())\n",
    "print(\"\\n\"+'C:')\n",
    "pprint(bwa.C())"
   ]
  },
  {
   "cell_type": "markdown",
   "metadata": {},
   "source": [
    "## Mapping"
   ]
  },
  {
   "cell_type": "markdown",
   "metadata": {},
   "source": [
    "### Exact Matching: backward search"
   ]
  },
  {
   "cell_type": "code",
   "execution_count": 34,
   "metadata": {},
   "outputs": [],
   "source": [
    "class BWA:\n",
    "    \"\"\" A Burrows-Wheeler Alignment class. \"\"\"\n",
    "\n",
    "    def __init__(self, reference: str):\n",
    "        \"\"\" Initiation \"\"\"\n",
    "        self.ref = reference + \"$\"\n",
    "        self.alphabet = sorted(['a', 'g', 't', 'c'])\n",
    "\n",
    "    def suffix_array(self):\n",
    "        \"\"\" Get the suffix array of the reference. \"\"\"\n",
    "        # List the all rotations with the reference input.\n",
    "        rotations = []\n",
    "        for i in range(len(self.ref)):\n",
    "            rotations.append(self.ref[i:] + self.ref[:i])\n",
    "        # Sort the rotations alphabetically\n",
    "        sorted_rotations = sorted(rotations)\n",
    "        # Gain the initial index of the sorted rotations\n",
    "        initial_indices = np.argsort(rotations)\n",
    "        return list(initial_indices), sorted_rotations\n",
    "\n",
    "    def bwt(self):\n",
    "        \"\"\" Get the Burrows–Wheeler transform array. \"\"\"\n",
    "        # Keep the last column in a sequence\n",
    "        last = ''\n",
    "        _, sorted_rotations = self.suffix_array()\n",
    "        for seq in sorted_rotations:\n",
    "            last += seq[-1]\n",
    "        return last\n",
    "\n",
    "    def Occ(self):\n",
    "        \"\"\" Get the Occ matrix.\n",
    "            Occ(c, k) is the number of occurrences of character c in the prefix L[1..k].\n",
    "        \"\"\"\n",
    "        # Gain the bwt last column\n",
    "        last_column = self.bwt()\n",
    "        # Initiation\n",
    "        totals = {k: 0 for k in \"\".join(set(last_column))}\n",
    "        tally_matrix = {k: [] for k in \"\".join(set(last_column))}\n",
    "        # Get the Occ matrix\n",
    "        for i in last_column:\n",
    "            totals[i] += 1\n",
    "            for j in tally_matrix.keys():\n",
    "                if i != j and tally_matrix[j]:\n",
    "                    tally_matrix[j].append(tally_matrix[j][-1])\n",
    "                elif i == j:\n",
    "                    tally_matrix[j].append(totals[i])\n",
    "                else:\n",
    "                    tally_matrix[j].append(0)\n",
    "        return tally_matrix, totals\n",
    "\n",
    "    def C(self):\n",
    "        \"\"\" Get the C table.\n",
    "            C[c] is a table that, for each character c in the alphabet,\n",
    "            contains the number of occurrences of lexically smaller characters in the text.\n",
    "        \"\"\"\n",
    "        first = {}\n",
    "        totc = 0\n",
    "        for i, count in sorted(self.Occ()[1].items()):\n",
    "            first[i] = totc\n",
    "            totc += count\n",
    "        return first\n",
    "\n",
    "    def lf(self, c, i):\n",
    "        \"\"\" The i-th occurrence of character c in last is the same text character\n",
    "            as the i-th occurrence of c in the first.\n",
    "        \"\"\"\n",
    "        if i < 0:\n",
    "            return 0\n",
    "        Occ = self.Occ()[0]\n",
    "        first = self.C()\n",
    "        return first[c] + Occ[c][i] - 1\n",
    "\n",
    "    def exact_match(self, read):\n",
    "        \"\"\" exact match - no indels or mismatches allowed. \"\"\"\n",
    "        # Get the initial low, high values\n",
    "        last = self.bwt()\n",
    "        low, high = last.find(read[-1]), last.rfind(read[-1])\n",
    "        # Iteratively calculate low, high values\n",
    "        i = len(read) - 1\n",
    "        while low <= high and i >= 0:\n",
    "            low = self.lf(read[i], low-1) + 1\n",
    "            high = self.lf(read[i], high)\n",
    "            i -= 1\n",
    "        return self.suffix_array()[0][low: high+1]"
   ]
  },
  {
   "cell_type": "code",
   "execution_count": 35,
   "metadata": {},
   "outputs": [
    {
     "name": "stdout",
     "output_type": "stream",
     "text": [
      "gta\n"
     ]
    }
   ],
   "source": [
    "ref = 'atgcgtaatgccgtcgatcg'\n",
    "read = 'gta'\n",
    "bwa = BWA(ref)\n",
    "for ind in bwa.exact_match(read):\n",
    "    print(ref[ind:ind+len(read)])"
   ]
  },
  {
   "cell_type": "markdown",
   "metadata": {},
   "source": [
    "### Inexact Matching: bounded traversal/backtracking"
   ]
  },
  {
   "cell_type": "code",
   "execution_count": 36,
   "metadata": {},
   "outputs": [],
   "source": [
    "import numpy as np\n",
    "\n",
    "\n",
    "class BWA:\n",
    "    \"\"\" A Burrows-Wheeler Alignment class. \"\"\"\n",
    "\n",
    "    def __init__(self, reference: str):\n",
    "        \"\"\" Initiation \"\"\"\n",
    "        self.ref = reference + \"$\"\n",
    "        self.alphabet = sorted(['a', 'g', 't', 'c'])\n",
    "\n",
    "    def suffix_array(self):\n",
    "        \"\"\" Get the suffix array of the reference. \"\"\"\n",
    "        # List the all rotations with the reference input.\n",
    "        rotations = []\n",
    "        for i in range(len(self.ref)):\n",
    "            rotations.append(self.ref[i:] + self.ref[:i])\n",
    "        # Sort the rotations alphabetically\n",
    "        sorted_rotations = sorted(rotations)\n",
    "        # Gain the initial index of the sorted rotations\n",
    "        initial_indices = np.argsort(rotations)\n",
    "        return list(initial_indices), sorted_rotations\n",
    "\n",
    "    def bwt(self):\n",
    "        \"\"\" Get the Burrows–Wheeler transform array. \"\"\"\n",
    "        # Keep the last column in a sequence\n",
    "        last = ''\n",
    "        _, sorted_rotations = self.suffix_array()\n",
    "        for seq in sorted_rotations:\n",
    "            last += seq[-1]\n",
    "        return last\n",
    "\n",
    "    def Occ(self):\n",
    "        \"\"\" Get the Occ matrix.\n",
    "            Occ(c, k) is the number of occurrences of character c in the prefix L[1..k].\n",
    "        \"\"\"\n",
    "        # Gain the bwt last column\n",
    "        last_column = self.bwt()\n",
    "        # Initiation\n",
    "        totals = {k: 0 for k in \"\".join(set(last_column))}\n",
    "        tally_matrix = {k: [] for k in \"\".join(set(last_column))}\n",
    "        # Get the Occ matrix\n",
    "        for i in last_column:\n",
    "            totals[i] += 1\n",
    "            for j in tally_matrix.keys():\n",
    "                if i != j and tally_matrix[j]:\n",
    "                    tally_matrix[j].append(tally_matrix[j][-1])\n",
    "                elif i == j:\n",
    "                    tally_matrix[j].append(totals[i])\n",
    "                else:\n",
    "                    tally_matrix[j].append(0)\n",
    "        return tally_matrix, totals\n",
    "\n",
    "    def C(self):\n",
    "        \"\"\" Get the C table.\n",
    "            C[c] is a table that, for each character c in the alphabet,\n",
    "            contains the number of occurrences of lexically smaller characters in the text.\n",
    "        \"\"\"\n",
    "        first = {}\n",
    "        totc = 0\n",
    "        for i, count in sorted(self.Occ()[1].items()):\n",
    "            first[i] = totc\n",
    "            totc += count\n",
    "        return first\n",
    "\n",
    "    def lf(self, c, i):\n",
    "        \"\"\" The i-th occurrence of character c in last is the same text character\n",
    "            as the i-th occurrence of c in the first.\n",
    "        \"\"\"\n",
    "        if i < 0:\n",
    "            return 0\n",
    "        Occ = self.Occ()[0]\n",
    "        first = self.C()\n",
    "        return first[c] + Occ[c][i] - 1\n",
    "\n",
    "    def inexact_recursion(self, low, high, mismatch_left, read, index):\n",
    "        \"\"\" Recursion function for inexact match. \"\"\"\n",
    "        # recursion out\n",
    "        # stop condition 1: entire read has been matched\n",
    "        if index <= 0:\n",
    "            return [(low, high)]\n",
    "        # stop condition 2: the reference not contained the substrings\n",
    "        if low > high:\n",
    "            return []\n",
    "        matches = []\n",
    "        next_character = read[index-1]\n",
    "        for c in self.alphabet:\n",
    "            low_ = self.lf(c, low-1) + 1\n",
    "            high_ = self.lf(c, high)\n",
    "            # if the substring was found\n",
    "            if low_ <= high_:\n",
    "                # exact match\n",
    "                if c == next_character:\n",
    "                    matches.extend(self.inexact_recursion(low_, high_, mismatch_left, read, index-1))\n",
    "                # mismatch\n",
    "                elif mismatch_left > 0:\n",
    "                    matches.extend(self.inexact_recursion(low_, high_, mismatch_left-1, read, index-1))\n",
    "        return matches\n",
    "\n",
    "    def inexact_match(self, read, mismatch=1):\n",
    "        \"\"\" inexact match - only mismatches allowed. \"\"\"\n",
    "        return [self.suffix_array()[0][match[0]] for match in self.inexact_recursion(1, len(self.bwt())-1, mismatch, read, len(read))]"
   ]
  },
  {
   "cell_type": "code",
   "execution_count": 37,
   "metadata": {},
   "outputs": [
    {
     "name": "stdout",
     "output_type": "stream",
     "text": [
      "gta\n",
      "gtc\n"
     ]
    }
   ],
   "source": [
    "ref = 'atgcgtaatgccgtcgatcg'\n",
    "read = 'gta'\n",
    "bwa = BWA(ref)\n",
    "matches = bwa.inexact_match(read, mismatch=1)\n",
    "for match in matches:\n",
    "    print(ref[match:match+len(read)])"
   ]
  },
  {
   "cell_type": "markdown",
   "metadata": {},
   "source": [
    "## Putting it all together"
   ]
  },
  {
   "cell_type": "code",
   "execution_count": 38,
   "metadata": {},
   "outputs": [],
   "source": [
    "\"\"\"\n",
    "Burrows-Wheeler Alignment\n",
    "---------------------------------------------\n",
    "This is a very simple implementation of a Burrows-Wheeler Aligner for indexing and sequence alignment.\n",
    "\n",
    "Differences between this code and the real BWA algorithm:\n",
    "1. It does not use array D to estimate the lower bound of the number of differences.\n",
    "2. It does take insertion and deletion into consideration, only mismatch.\n",
    "3. It does use a difference score to ignoring worse results.\n",
    "4. It does reduce the required operating memory by storing small fractions of Occ and SA.\n",
    "\n",
    "Author: Zell Wu\n",
    "Date: 4/2/2023\n",
    "\"\"\"\n",
    "\n",
    "import numpy as np\n",
    "\n",
    "\n",
    "class BWA:\n",
    "    \"\"\" A Burrows-Wheeler Alignment class. \"\"\"\n",
    "\n",
    "    def __init__(self, reference: str):\n",
    "        \"\"\" Initiation \"\"\"\n",
    "        self.ref = reference + \"$\"\n",
    "        self.alphabet = sorted(['a', 'g', 't', 'c'])\n",
    "\n",
    "    def suffix_array(self):\n",
    "        \"\"\" Get the suffix array of the reference. \"\"\"\n",
    "        # List the all rotations with the reference input.\n",
    "        rotations = []\n",
    "        for i in range(len(self.ref)):\n",
    "            rotations.append(self.ref[i:] + self.ref[:i])\n",
    "        # Sort the rotations alphabetically\n",
    "        sorted_rotations = sorted(rotations)\n",
    "        # Gain the initial index of the sorted rotations\n",
    "        initial_indices = np.argsort(rotations)\n",
    "        return list(initial_indices), sorted_rotations\n",
    "\n",
    "    def bwt(self):\n",
    "        \"\"\" Get the Burrows–Wheeler transform array. \"\"\"\n",
    "        # Keep the last column in a sequence\n",
    "        last = ''\n",
    "        _, sorted_rotations = self.suffix_array()\n",
    "        for seq in sorted_rotations:\n",
    "            last += seq[-1]\n",
    "        return last\n",
    "\n",
    "    def Occ(self):\n",
    "        \"\"\" Get the Occ matrix.\n",
    "            Occ(c, k) is the number of occurrences of character c in the prefix L[1..k].\n",
    "        \"\"\"\n",
    "        # Gain the bwt last column\n",
    "        last_column = self.bwt()\n",
    "        # Initiation\n",
    "        totals = {k: 0 for k in \"\".join(set(last_column))}\n",
    "        tally_matrix = {k: [] for k in \"\".join(set(last_column))}\n",
    "        # Get the Occ matrix\n",
    "        for i in last_column:\n",
    "            totals[i] += 1\n",
    "            for j in tally_matrix.keys():\n",
    "                if i != j and tally_matrix[j]:\n",
    "                    tally_matrix[j].append(tally_matrix[j][-1])\n",
    "                elif i == j:\n",
    "                    tally_matrix[j].append(totals[i])\n",
    "                else:\n",
    "                    tally_matrix[j].append(0)\n",
    "        return tally_matrix, totals\n",
    "\n",
    "    def C(self):\n",
    "        \"\"\" Get the C table.\n",
    "            C[c] is a table that, for each character c in the alphabet,\n",
    "            contains the number of occurrences of lexically smaller characters in the text.\n",
    "        \"\"\"\n",
    "        first = {}\n",
    "        totc = 0\n",
    "        for i, count in sorted(self.Occ()[1].items()):\n",
    "            first[i] = totc\n",
    "            totc += count\n",
    "        return first\n",
    "\n",
    "    def lf(self, c, i):\n",
    "        \"\"\" The i-th occurrence of character c in last is the same text character\n",
    "            as the i-th occurrence of c in the first.\n",
    "        \"\"\"\n",
    "        if i < 0:\n",
    "            return 0\n",
    "        Occ = self.Occ()[0]\n",
    "        first = self.C()\n",
    "        return first[c] + Occ[c][i] - 1\n",
    "\n",
    "    def exact_match(self, read):\n",
    "        \"\"\" exact match - no indels or mismatches allowed. \"\"\"\n",
    "        # Get the initial low, high values\n",
    "        last = self.bwt()\n",
    "        low, high = last.find(read[-1]), last.rfind(read[-1])\n",
    "        # Iteratively calculate low, high values\n",
    "        i = len(read) - 1\n",
    "        while low <= high and i >= 0:\n",
    "            low = self.lf(read[i], low-1) + 1\n",
    "            high = self.lf(read[i], high)\n",
    "            i -= 1\n",
    "        return self.suffix_array()[0][low: high+1]\n",
    "\n",
    "    def inexact_recursion(self, low, high, mismatch_left, read, index):\n",
    "        \"\"\" Recursion function for inexact match. \"\"\"\n",
    "        # recursion out\n",
    "        # stop condition 1: entire read has been matched\n",
    "        if index <= 0:\n",
    "            return [(low, high)]\n",
    "        # stop condition 2: the reference not contained the substrings\n",
    "        if low > high:\n",
    "            return []\n",
    "        matches = []\n",
    "        next_character = read[index-1]\n",
    "        for c in self.alphabet:\n",
    "            low_ = self.lf(c, low-1) + 1\n",
    "            high_ = self.lf(c, high)\n",
    "            # if the substring was found\n",
    "            if low_ <= high_:\n",
    "                # exact match\n",
    "                if c == next_character:\n",
    "                    matches.extend(self.inexact_recursion(low_, high_, mismatch_left, read, index-1))\n",
    "                # mismatch\n",
    "                elif mismatch_left > 0:\n",
    "                    matches.extend(self.inexact_recursion(low_, high_, mismatch_left-1, read, index-1))\n",
    "        return matches\n",
    "\n",
    "    def inexact_match(self, read, mismatch=1):\n",
    "        \"\"\" inexact match - only mismatches allowed. \"\"\"\n",
    "        return [self.suffix_array()[0][match[0]] for match in self.inexact_recursion(1, len(self.bwt())-1, mismatch, read, len(read))]"
   ]
  },
  {
   "cell_type": "markdown",
   "metadata": {},
   "source": [
    "## Reference"
   ]
  },
  {
   "cell_type": "markdown",
   "metadata": {},
   "source": [
    "> https://omics.sbs/blog/bwa/bwa.html \\\n",
    "> https://web.stanford.edu/class/cs262/archives/notes/lecture4.pdf \\\n",
    "> https://mr-easy.github.io/2019-12-19-burrows-wheeler-alignment-part-1 \\\n",
    "> https://mr-easy.github.io/2019-12-21-burrows-wheeler-alignment-part-2 \\\n",
    "> https://github.com/Jwomers/burrows_wheeler_alignment/blob/master/BWA.py\n",
    "\n",
    "Thanks for the blogs and code sharing above! "
   ]
  }
 ],
 "metadata": {
  "kernelspec": {
   "display_name": "Python 3 (ipykernel)",
   "language": "python",
   "name": "python3"
  },
  "language_info": {
   "codemirror_mode": {
    "name": "ipython",
    "version": 3
   },
   "file_extension": ".py",
   "mimetype": "text/x-python",
   "name": "python",
   "nbconvert_exporter": "python",
   "pygments_lexer": "ipython3",
   "version": "3.8.6"
  },
  "vscode": {
   "interpreter": {
    "hash": "281bb314f12105b31675f2dfa5ef5db1db3d4d6a6f8af87c8955db97ce54c5b1"
   }
  }
 },
 "nbformat": 4,
 "nbformat_minor": 2
}
